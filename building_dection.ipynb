{
  "cells": [
    {
      "cell_type": "code",
      "execution_count": null,
      "id": "840c286f",
      "metadata": {
        "vscode": {
          "languageId": "plaintext"
        },
        "id": "840c286f",
        "collapsed": true
      },
      "outputs": [],
      "source": [
        "!pip install awscli"
      ]
    },
    {
      "cell_type": "code",
      "execution_count": null,
      "id": "b9a1d00f",
      "metadata": {
        "vscode": {
          "languageId": "plaintext"
        },
        "id": "b9a1d00f"
      },
      "outputs": [],
      "source": [
        "!aws configure"
      ]
    },
    {
      "cell_type": "code",
      "execution_count": 5,
      "id": "0d1f6974",
      "metadata": {
        "vscode": {
          "languageId": "plaintext"
        },
        "id": "0d1f6974"
      },
      "outputs": [],
      "source": [
        "!mkdir -p datasets/"
      ]
    },
    {
      "cell_type": "code",
      "source": [
        "!aws s3 cp s3://spacenet-dataset/spacenet/SN1_buildings/tarballs/SN1_buildings_train_AOI_1_Rio_3band.tar.gz datasets/\n",
        "!aws s3 cp s3://spacenet-dataset/spacenet/SN1_buildings/tarballs/SN1_buildings_train_AOI_1_Rio_8band.tar.gz datasets/\n",
        "!aws s3 cp s3://spacenet-dataset/spacenet/SN1_buildings/tarballs/SN1_buildings_train_AOI_1_Rio_geojson_buildings.tar.gz datasets/"
      ],
      "metadata": {
        "colab": {
          "base_uri": "https://localhost:8080/"
        },
        "id": "PZestMsJY-Pf",
        "outputId": "82870c29-368e-4843-f812-16b65a30af81"
      },
      "id": "PZestMsJY-Pf",
      "execution_count": 6,
      "outputs": [
        {
          "output_type": "stream",
          "name": "stdout",
          "text": [
            "download: s3://spacenet-dataset/spacenet/SN1_buildings/tarballs/SN1_buildings_train_AOI_1_Rio_3band.tar.gz to datasets/SN1_buildings_train_AOI_1_Rio_3band.tar.gz\n",
            "download: s3://spacenet-dataset/spacenet/SN1_buildings/tarballs/SN1_buildings_train_AOI_1_Rio_8band.tar.gz to datasets/SN1_buildings_train_AOI_1_Rio_8band.tar.gz\n",
            "download: s3://spacenet-dataset/spacenet/SN1_buildings/tarballs/SN1_buildings_train_AOI_1_Rio_geojson_buildings.tar.gz to datasets/SN1_buildings_train_AOI_1_Rio_geojson_buildings.tar.gz\n"
          ]
        }
      ]
    },
    {
      "cell_type": "code",
      "source": [
        "!mkdir 3band 8band geojson"
      ],
      "metadata": {
        "id": "sB_qTE3-aCRa"
      },
      "id": "sB_qTE3-aCRa",
      "execution_count": 8,
      "outputs": []
    },
    {
      "cell_type": "code",
      "source": [
        "!rm -rf datasets/3band\n",
        "!rm -rf datasets/8band\n",
        "!rm -rf datasets/geojson"
      ],
      "metadata": {
        "id": "3rTuBic4bDAH"
      },
      "id": "3rTuBic4bDAH",
      "execution_count": 13,
      "outputs": []
    },
    {
      "cell_type": "code",
      "execution_count": null,
      "id": "905b519d",
      "metadata": {
        "vscode": {
          "languageId": "plaintext"
        },
        "id": "905b519d"
      },
      "outputs": [],
      "source": [
        "!tar -xvzf datasets/SN1_buildings_train_AOI_1_Rio_3band.tar.gz -C datasets/\n",
        "!tar -xvzf datasets/SN1_buildings_train_AOI_1_Rio_8band.tar.gz -C datasets/\n",
        "!tar -xvzf datasets/SN1_buildings_train_AOI_1_Rio_geojson_buildings.tar.gz -C datasets/"
      ]
    },
    {
      "cell_type": "code",
      "execution_count": 11,
      "id": "e055928d",
      "metadata": {
        "vscode": {
          "languageId": "plaintext"
        },
        "id": "e055928d"
      },
      "outputs": [],
      "source": [
        "import os\n",
        "from os.path import join"
      ]
    },
    {
      "cell_type": "code",
      "execution_count": 17,
      "id": "da6ee5eb",
      "metadata": {
        "vscode": {
          "languageId": "plaintext"
        },
        "id": "da6ee5eb",
        "outputId": "d96e7cf5-89dc-4df5-a341-43c1d99c710d",
        "colab": {
          "base_uri": "https://localhost:8080/"
        }
      },
      "outputs": [
        {
          "output_type": "stream",
          "name": "stdout",
          "text": [
            "6940 3b images\n",
            "6940 8b images\n",
            "6940 geojson labels\n"
          ]
        }
      ],
      "source": [
        "image_3b = \"datasets/3band\"\n",
        "image_8b = \"datasets/8band\"\n",
        "geojson = \"datasets/geojson\"\n",
        "print(len([name for name in os.listdir(image_3b)]), \"3b images\")\n",
        "print(len([name for name in os.listdir(image_8b)]), \"8b images\")\n",
        "print(len([name for name in os.listdir(geojson)]), \"geojson labels\")"
      ]
    },
    {
      "cell_type": "code",
      "execution_count": null,
      "id": "61310dcc",
      "metadata": {
        "vscode": {
          "languageId": "plaintext"
        },
        "id": "61310dcc"
      },
      "outputs": [],
      "source": [
        "!pip install rasterio"
      ]
    },
    {
      "cell_type": "code",
      "source": [
        "import importlib\n",
        "import RioDataset\n",
        "import create_data_loaders\n",
        "import split_dataset\n",
        "importlib.reload(RioDataset)\n",
        "importlib.reload(create_data_loaders)\n",
        "importlib.reload(split_dataset)"
      ],
      "metadata": {
        "id": "Js9ELtDBT_iX",
        "outputId": "82b35ebd-a653-4f62-ef42-79345619846d",
        "colab": {
          "base_uri": "https://localhost:8080/",
          "height": 383
        }
      },
      "id": "Js9ELtDBT_iX",
      "execution_count": 23,
      "outputs": [
        {
          "output_type": "error",
          "ename": "ModuleNotFoundError",
          "evalue": "No module named 'RioDataset'",
          "traceback": [
            "\u001b[0;31m---------------------------------------------------------------------------\u001b[0m",
            "\u001b[0;31mModuleNotFoundError\u001b[0m                       Traceback (most recent call last)",
            "\u001b[0;32m<ipython-input-23-9a6cfde8099a>\u001b[0m in \u001b[0;36m<cell line: 0>\u001b[0;34m()\u001b[0m\n\u001b[1;32m      1\u001b[0m \u001b[0;32mimport\u001b[0m \u001b[0mimportlib\u001b[0m\u001b[0;34m\u001b[0m\u001b[0;34m\u001b[0m\u001b[0m\n\u001b[0;32m----> 2\u001b[0;31m \u001b[0;32mimport\u001b[0m \u001b[0mRioDataset\u001b[0m\u001b[0;34m\u001b[0m\u001b[0;34m\u001b[0m\u001b[0m\n\u001b[0m\u001b[1;32m      3\u001b[0m \u001b[0;32mimport\u001b[0m \u001b[0mcreate_data_loaders\u001b[0m\u001b[0;34m\u001b[0m\u001b[0;34m\u001b[0m\u001b[0m\n\u001b[1;32m      4\u001b[0m \u001b[0;32mimport\u001b[0m \u001b[0msplit_dataset\u001b[0m\u001b[0;34m\u001b[0m\u001b[0;34m\u001b[0m\u001b[0m\n\u001b[1;32m      5\u001b[0m \u001b[0mimportlib\u001b[0m\u001b[0;34m.\u001b[0m\u001b[0mreload\u001b[0m\u001b[0;34m(\u001b[0m\u001b[0mRioDataset\u001b[0m\u001b[0;34m)\u001b[0m\u001b[0;34m\u001b[0m\u001b[0;34m\u001b[0m\u001b[0m\n",
            "\u001b[0;31mModuleNotFoundError\u001b[0m: No module named 'RioDataset'",
            "",
            "\u001b[0;31m---------------------------------------------------------------------------\u001b[0;32m\nNOTE: If your import is failing due to a missing package, you can\nmanually install dependencies using either !pip or !apt.\n\nTo view examples of installing some common dependencies, click the\n\"Open Examples\" button below.\n\u001b[0;31m---------------------------------------------------------------------------\u001b[0m\n"
          ],
          "errorDetails": {
            "actions": [
              {
                "action": "open_url",
                "actionText": "Open Examples",
                "url": "/notebooks/snippets/importing_libraries.ipynb"
              }
            ]
          }
        }
      ]
    },
    {
      "cell_type": "code",
      "execution_count": null,
      "id": "d28ac321",
      "metadata": {
        "vscode": {
          "languageId": "plaintext"
        },
        "id": "d28ac321"
      },
      "outputs": [],
      "source": [
        "import torch\n",
        "import torch.nn as nn\n",
        "import torch.optim as optim\n",
        "from torch.utils.data import DataLoader\n",
        "import albumentations as A\n",
        "from albumentations.pytorch import ToTensorV2\n",
        "from create_data_loaders import create_data_loaders\n",
        "from split_dataset import split_dataset"
      ]
    },
    {
      "cell_type": "code",
      "source": [
        "import importlib\n",
        "import split_dataset\n",
        "importlib.reload(split_dataset)"
      ],
      "metadata": {
        "colab": {
          "base_uri": "https://localhost:8080/"
        },
        "id": "lO0AitJAgDZT",
        "outputId": "7c9dec58-3972-4814-95b1-c9960f83fcc6"
      },
      "id": "lO0AitJAgDZT",
      "execution_count": 36,
      "outputs": [
        {
          "output_type": "execute_result",
          "data": {
            "text/plain": [
              "<module 'split_dataset' from '/content/split_dataset.py'>"
            ]
          },
          "metadata": {},
          "execution_count": 36
        }
      ]
    },
    {
      "cell_type": "code",
      "execution_count": 37,
      "id": "b59cc388",
      "metadata": {
        "vscode": {
          "languageId": "plaintext"
        },
        "id": "b59cc388",
        "outputId": "167cdc8d-aa7e-4228-9ed8-a4d3b78fcb1d",
        "colab": {
          "base_uri": "https://localhost:8080/"
        }
      },
      "outputs": [
        {
          "output_type": "stream",
          "name": "stdout",
          "text": [
            "\n",
            "[INFO] Copying 5899 files to 'train/'...\n"
          ]
        },
        {
          "output_type": "stream",
          "name": "stderr",
          "text": [
            "Copying to train: 100%|██████████| 5899/5899 [00:41<00:00, 141.35file/s]\n"
          ]
        },
        {
          "output_type": "stream",
          "name": "stdout",
          "text": [
            "[✓] train set created with 5899 image-mask pairs.\n",
            "\n",
            "[INFO] Copying 694 files to 'val/'...\n"
          ]
        },
        {
          "output_type": "stream",
          "name": "stderr",
          "text": [
            "Copying to val: 100%|██████████| 694/694 [00:03<00:00, 225.07file/s]\n"
          ]
        },
        {
          "output_type": "stream",
          "name": "stdout",
          "text": [
            "[✓] val set created with 694 image-mask pairs.\n",
            "\n",
            "[INFO] Copying 347 files to 'test/'...\n"
          ]
        },
        {
          "output_type": "stream",
          "name": "stderr",
          "text": [
            "Copying to test: 100%|██████████| 347/347 [00:01<00:00, 255.22file/s]"
          ]
        },
        {
          "output_type": "stream",
          "name": "stdout",
          "text": [
            "[✓] test set created with 347 image-mask pairs.\n",
            "[Done] Dataset split into train/val/test folders under: /content/data/\n"
          ]
        },
        {
          "output_type": "stream",
          "name": "stderr",
          "text": [
            "\n"
          ]
        }
      ],
      "source": [
        "from split_dataset import split_dataset\n",
        "\n",
        "target_dir = \"/content/train/\"\n",
        "os.makedirs(target_dir, exist_ok=True)\n",
        "split_dataset(\n",
        "    data_dir=\"/content/datasets\",\n",
        "    target_dir=target_dir\n",
        ")"
      ]
    },
    {
      "cell_type": "code",
      "source": [
        "print(len([name for name in os.listdir(target_dir + \"train/3band\")]), \"Train\")\n",
        "print(len([name for name in os.listdir(target_dir + \"train/8band\")]), \"Valid\")\n",
        "print(len([name for name in os.listdir(target_dir + \"train/geojson\")]), \"Test\")"
      ],
      "metadata": {
        "colab": {
          "base_uri": "https://localhost:8080/"
        },
        "id": "5kydPGNPfSWY",
        "outputId": "7b0b51f6-30b2-4947-8339-ccc82bd2db20"
      },
      "id": "5kydPGNPfSWY",
      "execution_count": 38,
      "outputs": [
        {
          "output_type": "stream",
          "name": "stdout",
          "text": [
            "5899 Train\n",
            "5899 Valid\n",
            "5899 Test\n"
          ]
        }
      ]
    },
    {
      "cell_type": "code",
      "execution_count": null,
      "id": "5846eed7",
      "metadata": {
        "vscode": {
          "languageId": "plaintext"
        },
        "id": "5846eed7",
        "outputId": "44f2771f-05a2-4d1f-bc08-74955a97f9e5",
        "colab": {
          "base_uri": "https://localhost:8080/"
        }
      },
      "outputs": [
        {
          "output_type": "stream",
          "name": "stdout",
          "text": [
            "Found 4858 valid image-mask pairs\n",
            "Found 1041 valid image-mask pairs\n",
            "Found 1041 valid image-mask pairs\n",
            "<torch.utils.data.dataloader.DataLoader object at 0x7baa50f4ba10>\n",
            "<torch.utils.data.dataloader.DataLoader object at 0x7ba8e76220d0>\n",
            "<torch.utils.data.dataloader.DataLoader object at 0x7ba8e7fb5e90>\n"
          ]
        }
      ],
      "source": [
        "from create_data_loaders import create_data_loaders\n",
        "train_loader, val_loader, test_loader = create_data_loaders(target_dir, batch_size=32, num_workers=4)\n",
        "print(train_loader)\n",
        "print(val_loader)\n",
        "print(test_loader)"
      ]
    },
    {
      "cell_type": "code",
      "execution_count": null,
      "id": "f0712fac",
      "metadata": {
        "vscode": {
          "languageId": "plaintext"
        },
        "id": "f0712fac",
        "outputId": "413fe2a0-92e4-4b99-aa00-c2d7be6a6a20",
        "colab": {
          "base_uri": "https://localhost:8080/"
        }
      },
      "outputs": [
        {
          "output_type": "stream",
          "name": "stdout",
          "text": [
            "Using device:  cuda\n"
          ]
        }
      ],
      "source": [
        "# Initialize model\n",
        "from models.unet.model import UNet\n",
        "model = UNet(num_classes=1, in_channels=3)  # Adjust in_channels based on your .tiff files\n",
        "device = torch.device('cuda' if torch.cuda.is_available() else 'cpu')\n",
        "print(\"Using device: \", device)\n",
        "model = model.to(device)"
      ]
    },
    {
      "cell_type": "code",
      "execution_count": null,
      "id": "ddd2e8c6",
      "metadata": {
        "vscode": {
          "languageId": "plaintext"
        },
        "id": "ddd2e8c6"
      },
      "outputs": [],
      "source": [
        "from DiceBCELoss import DiceBCELoss\n",
        "criterion = DiceBCELoss()\n",
        "optimizer = optim.Adam(model.parameters(), lr=0.001)\n",
        "scheduler = optim.lr_scheduler.ReduceLROnPlateau(optimizer, 'min', patience=5, factor=0.5)"
      ]
    },
    {
      "cell_type": "code",
      "source": [
        "start_epoch = 0\n",
        "checkpoint_path = \"checkpoint.pth\"\n",
        "\n",
        "if os.path.exists(checkpoint_path):\n",
        "    checkpoint = torch.load(checkpoint_path, map_location=device)\n",
        "    model.load_state_dict(checkpoint[\"model_state_dict\"])\n",
        "    optimizer.load_state_dict(checkpoint[\"optimizer_state_dict\"])\n",
        "    scheduler.load_state_dict(checkpoint[\"scheduler_state_dict\"])\n",
        "    start_epoch = checkpoint[\"epoch\"] + 1  # resume from next epoch\n",
        "    print(f\"[✓] Loaded checkpoint from epoch {start_epoch}\")\n",
        "else:\n",
        "    print(\"[INFO] No checkpoint found. Training from scratch.\")"
      ],
      "metadata": {
        "id": "lP1FVTdtXpwE",
        "outputId": "d1c29fe9-4c9f-4ec2-f3c3-ea49def6bc4f",
        "colab": {
          "base_uri": "https://localhost:8080/"
        }
      },
      "id": "lP1FVTdtXpwE",
      "execution_count": null,
      "outputs": [
        {
          "output_type": "stream",
          "name": "stdout",
          "text": [
            "[INFO] No checkpoint found. Training from scratch.\n"
          ]
        }
      ]
    },
    {
      "cell_type": "code",
      "execution_count": null,
      "id": "0a3345d8",
      "metadata": {
        "vscode": {
          "languageId": "plaintext"
        },
        "id": "0a3345d8",
        "outputId": "d6a22b56-5d09-4a0c-e4e9-fce631b46a60",
        "colab": {
          "base_uri": "https://localhost:8080/"
        }
      },
      "outputs": [
        {
          "output_type": "stream",
          "name": "stderr",
          "text": [
            "Epoch 1/100: 100%|██████████| 152/152 [01:17<00:00,  1.95it/s, loss=0.67, acc=0.916]\n"
          ]
        },
        {
          "output_type": "stream",
          "name": "stdout",
          "text": [
            "Epoch 1/100, Train Loss: 1.1066, Val Loss: 0.8265, Dice: 0.4487\n"
          ]
        },
        {
          "output_type": "stream",
          "name": "stderr",
          "text": [
            "Epoch 2/100: 100%|██████████| 152/152 [01:16<00:00,  1.98it/s, loss=0.628, acc=0.922]\n"
          ]
        },
        {
          "output_type": "stream",
          "name": "stdout",
          "text": [
            "Epoch 2/100, Train Loss: 0.6663, Val Loss: 0.6309, Dice: 0.5898\n"
          ]
        },
        {
          "output_type": "stream",
          "name": "stderr",
          "text": [
            "Epoch 3/100: 100%|██████████| 152/152 [01:16<00:00,  1.98it/s, loss=0.492, acc=0.95]\n"
          ]
        },
        {
          "output_type": "stream",
          "name": "stdout",
          "text": [
            "Epoch 3/100, Train Loss: 0.6000, Val Loss: 0.6017, Dice: 0.6114\n"
          ]
        },
        {
          "output_type": "stream",
          "name": "stderr",
          "text": [
            "Epoch 4/100: 100%|██████████| 152/152 [01:17<00:00,  1.97it/s, loss=0.548, acc=0.927]\n"
          ]
        },
        {
          "output_type": "stream",
          "name": "stdout",
          "text": [
            "Epoch 4/100, Train Loss: 0.5810, Val Loss: 0.5561, Dice: 0.6491\n"
          ]
        },
        {
          "output_type": "stream",
          "name": "stderr",
          "text": [
            "Epoch 5/100: 100%|██████████| 152/152 [01:16<00:00,  1.98it/s, loss=0.555, acc=0.913]\n"
          ]
        },
        {
          "output_type": "stream",
          "name": "stdout",
          "text": [
            "Epoch 5/100, Train Loss: 0.5461, Val Loss: 0.5779, Dice: 0.6196\n"
          ]
        },
        {
          "output_type": "stream",
          "name": "stderr",
          "text": [
            "Epoch 6/100: 100%|██████████| 152/152 [01:16<00:00,  1.98it/s, loss=1.08, acc=0.786]\n"
          ]
        },
        {
          "output_type": "stream",
          "name": "stdout",
          "text": [
            "Epoch 6/100, Train Loss: 0.7202, Val Loss: 0.9303, Dice: 0.2948\n"
          ]
        },
        {
          "output_type": "stream",
          "name": "stderr",
          "text": [
            "Epoch 7/100: 100%|██████████| 152/152 [01:16<00:00,  1.98it/s, loss=0.772, acc=0.914]\n"
          ]
        },
        {
          "output_type": "stream",
          "name": "stdout",
          "text": [
            "Epoch 7/100, Train Loss: 1.3930, Val Loss: 0.8087, Dice: 0.4682\n"
          ]
        },
        {
          "output_type": "stream",
          "name": "stderr",
          "text": [
            "Epoch 8/100: 100%|██████████| 152/152 [01:16<00:00,  1.98it/s, loss=0.64, acc=0.912]\n"
          ]
        },
        {
          "output_type": "stream",
          "name": "stdout",
          "text": [
            "Epoch 8/100, Train Loss: 0.7120, Val Loss: 0.7777, Dice: 0.4751\n"
          ]
        },
        {
          "output_type": "stream",
          "name": "stderr",
          "text": [
            "Epoch 9/100: 100%|██████████| 152/152 [01:16<00:00,  1.98it/s, loss=0.623, acc=0.916]\n"
          ]
        },
        {
          "output_type": "stream",
          "name": "stdout",
          "text": [
            "Epoch 9/100, Train Loss: 0.6512, Val Loss: 0.6274, Dice: 0.5968\n"
          ]
        },
        {
          "output_type": "stream",
          "name": "stderr",
          "text": [
            "Epoch 10/100: 100%|██████████| 152/152 [01:16<00:00,  1.98it/s, loss=0.569, acc=0.922]\n"
          ]
        },
        {
          "output_type": "stream",
          "name": "stdout",
          "text": [
            "Epoch 10/100, Train Loss: 0.6238, Val Loss: 0.6042, Dice: 0.6132\n"
          ]
        },
        {
          "output_type": "stream",
          "name": "stderr",
          "text": [
            "Epoch 11/100: 100%|██████████| 152/152 [01:16<00:00,  1.98it/s, loss=0.601, acc=0.911]\n"
          ]
        },
        {
          "output_type": "stream",
          "name": "stdout",
          "text": [
            "Epoch 11/100, Train Loss: 0.5938, Val Loss: 0.6029, Dice: 0.6097\n"
          ]
        },
        {
          "output_type": "stream",
          "name": "stderr",
          "text": [
            "Epoch 12/100: 100%|██████████| 152/152 [01:16<00:00,  1.98it/s, loss=0.541, acc=0.94]\n"
          ]
        },
        {
          "output_type": "stream",
          "name": "stdout",
          "text": [
            "Epoch 12/100, Train Loss: 0.5885, Val Loss: 0.6213, Dice: 0.5922\n"
          ]
        },
        {
          "output_type": "stream",
          "name": "stderr",
          "text": [
            "Epoch 13/100: 100%|██████████| 152/152 [01:16<00:00,  1.98it/s, loss=0.576, acc=0.921]\n"
          ]
        },
        {
          "output_type": "stream",
          "name": "stdout",
          "text": [
            "Epoch 13/100, Train Loss: 0.5807, Val Loss: 0.6113, Dice: 0.6197\n"
          ]
        },
        {
          "output_type": "stream",
          "name": "stderr",
          "text": [
            "Epoch 14/100: 100%|██████████| 152/152 [01:16<00:00,  1.98it/s, loss=0.615, acc=0.907]\n"
          ]
        },
        {
          "output_type": "stream",
          "name": "stdout",
          "text": [
            "Epoch 14/100, Train Loss: 0.5700, Val Loss: 0.5777, Dice: 0.6290\n"
          ]
        },
        {
          "output_type": "stream",
          "name": "stderr",
          "text": [
            "Epoch 15/100: 100%|██████████| 152/152 [01:16<00:00,  1.98it/s, loss=0.476, acc=0.945]\n"
          ]
        },
        {
          "output_type": "stream",
          "name": "stdout",
          "text": [
            "Epoch 15/100, Train Loss: 0.5607, Val Loss: 0.5791, Dice: 0.6231\n"
          ]
        },
        {
          "output_type": "stream",
          "name": "stderr",
          "text": [
            "Epoch 16/100: 100%|██████████| 152/152 [01:16<00:00,  1.98it/s, loss=0.566, acc=0.936]\n"
          ]
        },
        {
          "output_type": "stream",
          "name": "stdout",
          "text": [
            "Epoch 16/100, Train Loss: 0.5513, Val Loss: 0.5593, Dice: 0.6426\n"
          ]
        },
        {
          "output_type": "stream",
          "name": "stderr",
          "text": [
            "Epoch 17/100: 100%|██████████| 152/152 [01:16<00:00,  1.98it/s, loss=0.564, acc=0.942]\n"
          ]
        },
        {
          "output_type": "stream",
          "name": "stdout",
          "text": [
            "Epoch 17/100, Train Loss: 0.5425, Val Loss: 0.5596, Dice: 0.6414\n"
          ]
        },
        {
          "output_type": "stream",
          "name": "stderr",
          "text": [
            "Epoch 18/100: 100%|██████████| 152/152 [01:16<00:00,  1.98it/s, loss=0.46, acc=0.95]\n"
          ]
        },
        {
          "output_type": "stream",
          "name": "stdout",
          "text": [
            "Epoch 18/100, Train Loss: 0.5403, Val Loss: 0.5583, Dice: 0.6384\n"
          ]
        },
        {
          "output_type": "stream",
          "name": "stderr",
          "text": [
            "Epoch 19/100: 100%|██████████| 152/152 [01:16<00:00,  1.98it/s, loss=0.535, acc=0.92]\n"
          ]
        },
        {
          "output_type": "stream",
          "name": "stdout",
          "text": [
            "Epoch 19/100, Train Loss: 0.5353, Val Loss: 0.5469, Dice: 0.6479\n"
          ]
        },
        {
          "output_type": "stream",
          "name": "stderr",
          "text": [
            "Epoch 20/100: 100%|██████████| 152/152 [01:16<00:00,  1.98it/s, loss=0.517, acc=0.921]\n"
          ]
        },
        {
          "output_type": "stream",
          "name": "stdout",
          "text": [
            "Epoch 20/100, Train Loss: 0.5272, Val Loss: 0.5590, Dice: 0.6356\n"
          ]
        },
        {
          "output_type": "stream",
          "name": "stderr",
          "text": [
            "Epoch 21/100: 100%|██████████| 152/152 [01:16<00:00,  1.98it/s, loss=0.537, acc=0.932]\n"
          ]
        },
        {
          "output_type": "stream",
          "name": "stdout",
          "text": [
            "Epoch 21/100, Train Loss: 0.5283, Val Loss: 0.5427, Dice: 0.6521\n"
          ]
        },
        {
          "output_type": "stream",
          "name": "stderr",
          "text": [
            "Epoch 22/100: 100%|██████████| 152/152 [01:16<00:00,  1.98it/s, loss=0.545, acc=0.931]\n"
          ]
        },
        {
          "output_type": "stream",
          "name": "stdout",
          "text": [
            "Epoch 22/100, Train Loss: 0.5243, Val Loss: 0.5404, Dice: 0.6519\n"
          ]
        },
        {
          "output_type": "stream",
          "name": "stderr",
          "text": [
            "Epoch 23/100: 100%|██████████| 152/152 [01:16<00:00,  1.97it/s, loss=0.535, acc=0.913]\n"
          ]
        },
        {
          "output_type": "stream",
          "name": "stdout",
          "text": [
            "Epoch 23/100, Train Loss: 0.5176, Val Loss: 0.5308, Dice: 0.6580\n"
          ]
        },
        {
          "output_type": "stream",
          "name": "stderr",
          "text": [
            "Epoch 24/100: 100%|██████████| 152/152 [01:16<00:00,  1.97it/s, loss=0.519, acc=0.938]\n"
          ]
        },
        {
          "output_type": "stream",
          "name": "stdout",
          "text": [
            "Epoch 24/100, Train Loss: 0.5179, Val Loss: 0.5303, Dice: 0.6612\n"
          ]
        },
        {
          "output_type": "stream",
          "name": "stderr",
          "text": [
            "Epoch 25/100: 100%|██████████| 152/152 [01:16<00:00,  1.98it/s, loss=0.479, acc=0.928]\n"
          ]
        },
        {
          "output_type": "stream",
          "name": "stdout",
          "text": [
            "Epoch 25/100, Train Loss: 0.5135, Val Loss: 0.5244, Dice: 0.6644\n"
          ]
        },
        {
          "output_type": "stream",
          "name": "stderr",
          "text": [
            "Epoch 26/100: 100%|██████████| 152/152 [01:16<00:00,  1.97it/s, loss=0.545, acc=0.932]\n"
          ]
        },
        {
          "output_type": "stream",
          "name": "stdout",
          "text": [
            "Epoch 26/100, Train Loss: 0.5104, Val Loss: 0.5312, Dice: 0.6600\n"
          ]
        },
        {
          "output_type": "stream",
          "name": "stderr",
          "text": [
            "Epoch 27/100: 100%|██████████| 152/152 [01:16<00:00,  1.98it/s, loss=0.488, acc=0.925]\n"
          ]
        },
        {
          "output_type": "stream",
          "name": "stdout",
          "text": [
            "Epoch 27/100, Train Loss: 0.5095, Val Loss: 0.5392, Dice: 0.6497\n"
          ]
        },
        {
          "output_type": "stream",
          "name": "stderr",
          "text": [
            "Epoch 28/100: 100%|██████████| 152/152 [01:16<00:00,  1.98it/s, loss=0.426, acc=0.959]\n"
          ]
        },
        {
          "output_type": "stream",
          "name": "stdout",
          "text": [
            "Epoch 28/100, Train Loss: 0.5056, Val Loss: 0.5401, Dice: 0.6599\n"
          ]
        },
        {
          "output_type": "stream",
          "name": "stderr",
          "text": [
            "Epoch 29/100: 100%|██████████| 152/152 [01:16<00:00,  1.98it/s, loss=0.455, acc=0.948]\n"
          ]
        },
        {
          "output_type": "stream",
          "name": "stdout",
          "text": [
            "Epoch 29/100, Train Loss: 0.5036, Val Loss: 0.5156, Dice: 0.6729\n"
          ]
        },
        {
          "output_type": "stream",
          "name": "stderr",
          "text": [
            "Epoch 30/100: 100%|██████████| 152/152 [01:16<00:00,  1.98it/s, loss=0.5, acc=0.929]\n"
          ]
        },
        {
          "output_type": "stream",
          "name": "stdout",
          "text": [
            "Epoch 30/100, Train Loss: 0.5010, Val Loss: 0.5192, Dice: 0.6663\n"
          ]
        },
        {
          "output_type": "stream",
          "name": "stderr",
          "text": [
            "Epoch 31/100: 100%|██████████| 152/152 [01:16<00:00,  1.98it/s, loss=0.561, acc=0.922]\n"
          ]
        },
        {
          "output_type": "stream",
          "name": "stdout",
          "text": [
            "Epoch 31/100, Train Loss: 0.4979, Val Loss: 0.5184, Dice: 0.6693\n"
          ]
        },
        {
          "output_type": "stream",
          "name": "stderr",
          "text": [
            "Epoch 32/100: 100%|██████████| 152/152 [01:16<00:00,  1.98it/s, loss=0.485, acc=0.933]\n"
          ]
        },
        {
          "output_type": "stream",
          "name": "stdout",
          "text": [
            "Epoch 32/100, Train Loss: 0.4966, Val Loss: 0.5079, Dice: 0.6773\n"
          ]
        },
        {
          "output_type": "stream",
          "name": "stderr",
          "text": [
            "Epoch 33/100: 100%|██████████| 152/152 [01:16<00:00,  1.98it/s, loss=0.455, acc=0.95]\n"
          ]
        },
        {
          "output_type": "stream",
          "name": "stdout",
          "text": [
            "Epoch 33/100, Train Loss: 0.4950, Val Loss: 0.5174, Dice: 0.6678\n"
          ]
        },
        {
          "output_type": "stream",
          "name": "stderr",
          "text": [
            "Epoch 34/100: 100%|██████████| 152/152 [01:16<00:00,  1.98it/s, loss=0.506, acc=0.923]\n"
          ]
        },
        {
          "output_type": "stream",
          "name": "stdout",
          "text": [
            "Epoch 34/100, Train Loss: 0.4929, Val Loss: 0.5182, Dice: 0.6651\n"
          ]
        },
        {
          "output_type": "stream",
          "name": "stderr",
          "text": [
            "Epoch 35/100: 100%|██████████| 152/152 [01:16<00:00,  1.98it/s, loss=0.45, acc=0.938]\n"
          ]
        },
        {
          "output_type": "stream",
          "name": "stdout",
          "text": [
            "Epoch 35/100, Train Loss: 0.4903, Val Loss: 0.5062, Dice: 0.6760\n"
          ]
        },
        {
          "output_type": "stream",
          "name": "stderr",
          "text": [
            "Epoch 36/100: 100%|██████████| 152/152 [01:16<00:00,  1.98it/s, loss=0.511, acc=0.936]\n"
          ]
        },
        {
          "output_type": "stream",
          "name": "stdout",
          "text": [
            "Epoch 36/100, Train Loss: 0.4892, Val Loss: 0.5011, Dice: 0.6803\n"
          ]
        },
        {
          "output_type": "stream",
          "name": "stderr",
          "text": [
            "Epoch 37/100: 100%|██████████| 152/152 [01:16<00:00,  1.98it/s, loss=0.476, acc=0.947]\n"
          ]
        },
        {
          "output_type": "stream",
          "name": "stdout",
          "text": [
            "Epoch 37/100, Train Loss: 0.4910, Val Loss: 0.5046, Dice: 0.6778\n"
          ]
        },
        {
          "output_type": "stream",
          "name": "stderr",
          "text": [
            "Epoch 38/100: 100%|██████████| 152/152 [01:16<00:00,  1.97it/s, loss=0.482, acc=0.936]\n"
          ]
        },
        {
          "output_type": "stream",
          "name": "stdout",
          "text": [
            "Epoch 38/100, Train Loss: 0.4872, Val Loss: 0.4991, Dice: 0.6828\n"
          ]
        },
        {
          "output_type": "stream",
          "name": "stderr",
          "text": [
            "Epoch 39/100: 100%|██████████| 152/152 [01:16<00:00,  1.98it/s, loss=0.438, acc=0.962]\n"
          ]
        },
        {
          "output_type": "stream",
          "name": "stdout",
          "text": [
            "Epoch 39/100, Train Loss: 0.4862, Val Loss: 0.5097, Dice: 0.6768\n"
          ]
        },
        {
          "output_type": "stream",
          "name": "stderr",
          "text": [
            "Epoch 40/100: 100%|██████████| 152/152 [01:16<00:00,  1.98it/s, loss=0.507, acc=0.935]\n"
          ]
        },
        {
          "output_type": "stream",
          "name": "stdout",
          "text": [
            "Epoch 40/100, Train Loss: 0.4826, Val Loss: 0.4990, Dice: 0.6822\n"
          ]
        },
        {
          "output_type": "stream",
          "name": "stderr",
          "text": [
            "Epoch 41/100: 100%|██████████| 152/152 [01:16<00:00,  1.98it/s, loss=0.491, acc=0.958]\n"
          ]
        },
        {
          "output_type": "stream",
          "name": "stdout",
          "text": [
            "Epoch 41/100, Train Loss: 0.4820, Val Loss: 0.4983, Dice: 0.6848\n"
          ]
        },
        {
          "output_type": "stream",
          "name": "stderr",
          "text": [
            "Epoch 42/100: 100%|██████████| 152/152 [01:16<00:00,  1.98it/s, loss=0.503, acc=0.92]\n"
          ]
        },
        {
          "output_type": "stream",
          "name": "stdout",
          "text": [
            "Epoch 42/100, Train Loss: 0.4835, Val Loss: 0.5068, Dice: 0.6736\n"
          ]
        },
        {
          "output_type": "stream",
          "name": "stderr",
          "text": [
            "Epoch 43/100: 100%|██████████| 152/152 [01:16<00:00,  1.98it/s, loss=0.394, acc=0.963]\n"
          ]
        },
        {
          "output_type": "stream",
          "name": "stdout",
          "text": [
            "Epoch 43/100, Train Loss: 0.4802, Val Loss: 0.4984, Dice: 0.6823\n"
          ]
        },
        {
          "output_type": "stream",
          "name": "stderr",
          "text": [
            "Epoch 44/100: 100%|██████████| 152/152 [01:16<00:00,  1.97it/s, loss=0.457, acc=0.938]\n"
          ]
        },
        {
          "output_type": "stream",
          "name": "stdout",
          "text": [
            "Epoch 44/100, Train Loss: 0.4823, Val Loss: 0.4966, Dice: 0.6832\n"
          ]
        },
        {
          "output_type": "stream",
          "name": "stderr",
          "text": [
            "Epoch 45/100: 100%|██████████| 152/152 [01:16<00:00,  1.98it/s, loss=0.451, acc=0.947]\n"
          ]
        },
        {
          "output_type": "stream",
          "name": "stdout",
          "text": [
            "Epoch 45/100, Train Loss: 0.4756, Val Loss: 0.5004, Dice: 0.6782\n"
          ]
        },
        {
          "output_type": "stream",
          "name": "stderr",
          "text": [
            "Epoch 46/100: 100%|██████████| 152/152 [01:16<00:00,  1.98it/s, loss=0.452, acc=0.941]\n"
          ]
        },
        {
          "output_type": "stream",
          "name": "stdout",
          "text": [
            "Epoch 46/100, Train Loss: 0.4746, Val Loss: 0.4932, Dice: 0.6867\n"
          ]
        },
        {
          "output_type": "stream",
          "name": "stderr",
          "text": [
            "Epoch 47/100: 100%|██████████| 152/152 [01:16<00:00,  1.98it/s, loss=0.502, acc=0.93]\n"
          ]
        },
        {
          "output_type": "stream",
          "name": "stdout",
          "text": [
            "Epoch 47/100, Train Loss: 0.4751, Val Loss: 0.5076, Dice: 0.6700\n"
          ]
        },
        {
          "output_type": "stream",
          "name": "stderr",
          "text": [
            "Epoch 48/100: 100%|██████████| 152/152 [01:16<00:00,  1.98it/s, loss=0.451, acc=0.936]\n"
          ]
        },
        {
          "output_type": "stream",
          "name": "stdout",
          "text": [
            "Epoch 48/100, Train Loss: 0.4753, Val Loss: 0.4927, Dice: 0.6863\n"
          ]
        },
        {
          "output_type": "stream",
          "name": "stderr",
          "text": [
            "Epoch 49/100: 100%|██████████| 152/152 [01:16<00:00,  1.98it/s, loss=0.517, acc=0.91]\n"
          ]
        },
        {
          "output_type": "stream",
          "name": "stdout",
          "text": [
            "Epoch 49/100, Train Loss: 0.4744, Val Loss: 0.4940, Dice: 0.6832\n"
          ]
        },
        {
          "output_type": "stream",
          "name": "stderr",
          "text": [
            "Epoch 50/100: 100%|██████████| 152/152 [01:16<00:00,  1.98it/s, loss=0.502, acc=0.927]\n"
          ]
        },
        {
          "output_type": "stream",
          "name": "stdout",
          "text": [
            "Epoch 50/100, Train Loss: 0.4720, Val Loss: 0.4919, Dice: 0.6889\n"
          ]
        },
        {
          "output_type": "stream",
          "name": "stderr",
          "text": [
            "Epoch 51/100: 100%|██████████| 152/152 [01:16<00:00,  1.98it/s, loss=0.447, acc=0.933]\n"
          ]
        },
        {
          "output_type": "stream",
          "name": "stdout",
          "text": [
            "Epoch 51/100, Train Loss: 0.4718, Val Loss: 0.4985, Dice: 0.6868\n"
          ]
        },
        {
          "output_type": "stream",
          "name": "stderr",
          "text": [
            "Epoch 52/100: 100%|██████████| 152/152 [01:16<00:00,  1.98it/s, loss=0.446, acc=0.947]\n"
          ]
        },
        {
          "output_type": "stream",
          "name": "stdout",
          "text": [
            "Epoch 52/100, Train Loss: 0.4716, Val Loss: 0.4896, Dice: 0.6873\n"
          ]
        },
        {
          "output_type": "stream",
          "name": "stderr",
          "text": [
            "Epoch 53/100: 100%|██████████| 152/152 [01:16<00:00,  1.98it/s, loss=0.438, acc=0.93]\n"
          ]
        },
        {
          "output_type": "stream",
          "name": "stdout",
          "text": [
            "Epoch 53/100, Train Loss: 0.4712, Val Loss: 0.4922, Dice: 0.6880\n"
          ]
        },
        {
          "output_type": "stream",
          "name": "stderr",
          "text": [
            "Epoch 54/100: 100%|██████████| 152/152 [01:16<00:00,  1.98it/s, loss=0.457, acc=0.937]\n"
          ]
        },
        {
          "output_type": "stream",
          "name": "stdout",
          "text": [
            "Epoch 54/100, Train Loss: 0.4680, Val Loss: 0.4921, Dice: 0.6850\n"
          ]
        },
        {
          "output_type": "stream",
          "name": "stderr",
          "text": [
            "Epoch 55/100: 100%|██████████| 152/152 [01:16<00:00,  1.98it/s, loss=0.464, acc=0.943]\n"
          ]
        },
        {
          "output_type": "stream",
          "name": "stdout",
          "text": [
            "Epoch 55/100, Train Loss: 0.4653, Val Loss: 0.4864, Dice: 0.6904\n"
          ]
        },
        {
          "output_type": "stream",
          "name": "stderr",
          "text": [
            "Epoch 56/100: 100%|██████████| 152/152 [01:16<00:00,  1.98it/s, loss=0.444, acc=0.945]\n"
          ]
        },
        {
          "output_type": "stream",
          "name": "stdout",
          "text": [
            "Epoch 56/100, Train Loss: 0.4668, Val Loss: 0.4910, Dice: 0.6859\n"
          ]
        },
        {
          "output_type": "stream",
          "name": "stderr",
          "text": [
            "Epoch 57/100: 100%|██████████| 152/152 [01:16<00:00,  1.98it/s, loss=0.462, acc=0.954]\n"
          ]
        },
        {
          "output_type": "stream",
          "name": "stdout",
          "text": [
            "Epoch 57/100, Train Loss: 0.4658, Val Loss: 0.4852, Dice: 0.6893\n"
          ]
        },
        {
          "output_type": "stream",
          "name": "stderr",
          "text": [
            "Epoch 58/100: 100%|██████████| 152/152 [01:16<00:00,  1.98it/s, loss=0.467, acc=0.941]\n"
          ]
        },
        {
          "output_type": "stream",
          "name": "stdout",
          "text": [
            "Epoch 58/100, Train Loss: 0.4622, Val Loss: 0.4895, Dice: 0.6861\n"
          ]
        },
        {
          "output_type": "stream",
          "name": "stderr",
          "text": [
            "Epoch 59/100: 100%|██████████| 152/152 [01:16<00:00,  1.98it/s, loss=0.49, acc=0.919]\n"
          ]
        },
        {
          "output_type": "stream",
          "name": "stdout",
          "text": [
            "Epoch 59/100, Train Loss: 0.4607, Val Loss: 0.4896, Dice: 0.6891\n"
          ]
        },
        {
          "output_type": "stream",
          "name": "stderr",
          "text": [
            "Epoch 60/100: 100%|██████████| 152/152 [01:16<00:00,  1.98it/s, loss=0.45, acc=0.946]\n"
          ]
        },
        {
          "output_type": "stream",
          "name": "stdout",
          "text": [
            "Epoch 60/100, Train Loss: 0.4646, Val Loss: 0.4856, Dice: 0.6899\n"
          ]
        },
        {
          "output_type": "stream",
          "name": "stderr",
          "text": [
            "Epoch 61/100: 100%|██████████| 152/152 [01:16<00:00,  1.98it/s, loss=0.488, acc=0.937]\n"
          ]
        },
        {
          "output_type": "stream",
          "name": "stdout",
          "text": [
            "Epoch 61/100, Train Loss: 0.4629, Val Loss: 0.4938, Dice: 0.6824\n"
          ]
        },
        {
          "output_type": "stream",
          "name": "stderr",
          "text": [
            "Epoch 62/100: 100%|██████████| 152/152 [01:16<00:00,  1.98it/s, loss=0.474, acc=0.938]\n"
          ]
        },
        {
          "output_type": "stream",
          "name": "stdout",
          "text": [
            "Epoch 62/100, Train Loss: 0.4621, Val Loss: 0.4883, Dice: 0.6874\n"
          ]
        },
        {
          "output_type": "stream",
          "name": "stderr",
          "text": [
            "Epoch 63/100: 100%|██████████| 152/152 [01:16<00:00,  1.97it/s, loss=0.492, acc=0.933]\n"
          ]
        },
        {
          "output_type": "stream",
          "name": "stdout",
          "text": [
            "Epoch 63/100, Train Loss: 0.4629, Val Loss: 0.4880, Dice: 0.6886\n"
          ]
        },
        {
          "output_type": "stream",
          "name": "stderr",
          "text": [
            "Epoch 64/100: 100%|██████████| 152/152 [01:16<00:00,  1.98it/s, loss=0.5, acc=0.915]\n"
          ]
        },
        {
          "output_type": "stream",
          "name": "stdout",
          "text": [
            "Epoch 64/100, Train Loss: 0.4550, Val Loss: 0.4821, Dice: 0.6913\n"
          ]
        },
        {
          "output_type": "stream",
          "name": "stderr",
          "text": [
            "Epoch 65/100: 100%|██████████| 152/152 [01:16<00:00,  1.98it/s, loss=0.411, acc=0.947]\n"
          ]
        },
        {
          "output_type": "stream",
          "name": "stdout",
          "text": [
            "Epoch 65/100, Train Loss: 0.4513, Val Loss: 0.4757, Dice: 0.6963\n"
          ]
        },
        {
          "output_type": "stream",
          "name": "stderr",
          "text": [
            "Epoch 66/100: 100%|██████████| 152/152 [01:16<00:00,  1.98it/s, loss=0.411, acc=0.95]\n"
          ]
        },
        {
          "output_type": "stream",
          "name": "stdout",
          "text": [
            "Epoch 66/100, Train Loss: 0.4511, Val Loss: 0.4775, Dice: 0.6964\n"
          ]
        },
        {
          "output_type": "stream",
          "name": "stderr",
          "text": [
            "Epoch 67/100: 100%|██████████| 152/152 [01:16<00:00,  1.98it/s, loss=0.415, acc=0.959]\n"
          ]
        },
        {
          "output_type": "stream",
          "name": "stdout",
          "text": [
            "Epoch 67/100, Train Loss: 0.4527, Val Loss: 0.4803, Dice: 0.6940\n"
          ]
        },
        {
          "output_type": "stream",
          "name": "stderr",
          "text": [
            "Epoch 68/100: 100%|██████████| 152/152 [01:16<00:00,  1.98it/s, loss=0.438, acc=0.94]\n"
          ]
        },
        {
          "output_type": "stream",
          "name": "stdout",
          "text": [
            "Epoch 68/100, Train Loss: 0.4518, Val Loss: 0.4848, Dice: 0.6895\n"
          ]
        },
        {
          "output_type": "stream",
          "name": "stderr",
          "text": [
            "Epoch 69/100: 100%|██████████| 152/152 [01:16<00:00,  1.98it/s, loss=0.407, acc=0.957]\n"
          ]
        },
        {
          "output_type": "stream",
          "name": "stdout",
          "text": [
            "Epoch 69/100, Train Loss: 0.4508, Val Loss: 0.4734, Dice: 0.6971\n"
          ]
        },
        {
          "output_type": "stream",
          "name": "stderr",
          "text": [
            "Epoch 70/100: 100%|██████████| 152/152 [01:16<00:00,  1.98it/s, loss=0.51, acc=0.915]\n"
          ]
        },
        {
          "output_type": "stream",
          "name": "stdout",
          "text": [
            "Epoch 70/100, Train Loss: 0.4495, Val Loss: 0.4916, Dice: 0.6839\n"
          ]
        },
        {
          "output_type": "stream",
          "name": "stderr",
          "text": [
            "Epoch 71/100: 100%|██████████| 152/152 [01:16<00:00,  1.98it/s, loss=0.453, acc=0.951]\n"
          ]
        },
        {
          "output_type": "stream",
          "name": "stdout",
          "text": [
            "Epoch 71/100, Train Loss: 0.4493, Val Loss: 0.4707, Dice: 0.6999\n"
          ]
        },
        {
          "output_type": "stream",
          "name": "stderr",
          "text": [
            "Epoch 72/100: 100%|██████████| 152/152 [01:16<00:00,  1.98it/s, loss=0.481, acc=0.94]\n"
          ]
        },
        {
          "output_type": "stream",
          "name": "stdout",
          "text": [
            "Epoch 72/100, Train Loss: 0.4483, Val Loss: 0.4852, Dice: 0.6878\n"
          ]
        },
        {
          "output_type": "stream",
          "name": "stderr",
          "text": [
            "Epoch 73/100: 100%|██████████| 152/152 [01:16<00:00,  1.98it/s, loss=0.516, acc=0.913]\n"
          ]
        },
        {
          "output_type": "stream",
          "name": "stdout",
          "text": [
            "Epoch 73/100, Train Loss: 0.4478, Val Loss: 0.4746, Dice: 0.6988\n"
          ]
        },
        {
          "output_type": "stream",
          "name": "stderr",
          "text": [
            "Epoch 74/100: 100%|██████████| 152/152 [01:16<00:00,  1.98it/s, loss=0.445, acc=0.949]\n"
          ]
        },
        {
          "output_type": "stream",
          "name": "stdout",
          "text": [
            "Epoch 74/100, Train Loss: 0.4487, Val Loss: 0.4769, Dice: 0.6942\n"
          ]
        },
        {
          "output_type": "stream",
          "name": "stderr",
          "text": [
            "Epoch 75/100: 100%|██████████| 152/152 [01:16<00:00,  1.98it/s, loss=0.42, acc=0.945]\n"
          ]
        },
        {
          "output_type": "stream",
          "name": "stdout",
          "text": [
            "Epoch 75/100, Train Loss: 0.4512, Val Loss: 0.4776, Dice: 0.6964\n"
          ]
        },
        {
          "output_type": "stream",
          "name": "stderr",
          "text": [
            "Epoch 76/100: 100%|██████████| 152/152 [01:16<00:00,  1.98it/s, loss=0.44, acc=0.957]\n"
          ]
        },
        {
          "output_type": "stream",
          "name": "stdout",
          "text": [
            "Epoch 76/100, Train Loss: 0.4482, Val Loss: 0.4740, Dice: 0.6958\n"
          ]
        },
        {
          "output_type": "stream",
          "name": "stderr",
          "text": [
            "Epoch 77/100: 100%|██████████| 152/152 [01:16<00:00,  1.98it/s, loss=0.443, acc=0.94]\n"
          ]
        },
        {
          "output_type": "stream",
          "name": "stdout",
          "text": [
            "Epoch 77/100, Train Loss: 0.4465, Val Loss: 0.4716, Dice: 0.6988\n"
          ]
        },
        {
          "output_type": "stream",
          "name": "stderr",
          "text": [
            "Epoch 78/100: 100%|██████████| 152/152 [01:16<00:00,  1.98it/s, loss=0.439, acc=0.945]\n"
          ]
        },
        {
          "output_type": "stream",
          "name": "stdout",
          "text": [
            "Epoch 78/100, Train Loss: 0.4441, Val Loss: 0.4830, Dice: 0.6908\n"
          ]
        },
        {
          "output_type": "stream",
          "name": "stderr",
          "text": [
            "Epoch 79/100: 100%|██████████| 152/152 [01:16<00:00,  1.98it/s, loss=0.428, acc=0.932]\n"
          ]
        },
        {
          "output_type": "stream",
          "name": "stdout",
          "text": [
            "Epoch 79/100, Train Loss: 0.4427, Val Loss: 0.4705, Dice: 0.6994\n"
          ]
        },
        {
          "output_type": "stream",
          "name": "stderr",
          "text": [
            "Epoch 80/100: 100%|██████████| 152/152 [01:16<00:00,  1.98it/s, loss=0.435, acc=0.943]\n"
          ]
        },
        {
          "output_type": "stream",
          "name": "stdout",
          "text": [
            "Epoch 80/100, Train Loss: 0.4422, Val Loss: 0.4715, Dice: 0.6987\n"
          ]
        },
        {
          "output_type": "stream",
          "name": "stderr",
          "text": [
            "Epoch 81/100: 100%|██████████| 152/152 [01:16<00:00,  1.98it/s, loss=0.44, acc=0.946]\n"
          ]
        },
        {
          "output_type": "stream",
          "name": "stdout",
          "text": [
            "Epoch 81/100, Train Loss: 0.4418, Val Loss: 0.4796, Dice: 0.6908\n"
          ]
        },
        {
          "output_type": "stream",
          "name": "stderr",
          "text": [
            "Epoch 82/100: 100%|██████████| 152/152 [01:16<00:00,  1.97it/s, loss=0.473, acc=0.924]\n"
          ]
        },
        {
          "output_type": "stream",
          "name": "stdout",
          "text": [
            "Epoch 82/100, Train Loss: 0.4415, Val Loss: 0.4715, Dice: 0.7005\n"
          ]
        },
        {
          "output_type": "stream",
          "name": "stderr",
          "text": [
            "Epoch 83/100: 100%|██████████| 152/152 [01:16<00:00,  1.98it/s, loss=0.372, acc=0.952]\n"
          ]
        },
        {
          "output_type": "stream",
          "name": "stdout",
          "text": [
            "Epoch 83/100, Train Loss: 0.4422, Val Loss: 0.4691, Dice: 0.7003\n"
          ]
        },
        {
          "output_type": "stream",
          "name": "stderr",
          "text": [
            "Epoch 84/100: 100%|██████████| 152/152 [01:16<00:00,  1.98it/s, loss=0.408, acc=0.936]\n"
          ]
        },
        {
          "output_type": "stream",
          "name": "stdout",
          "text": [
            "Epoch 84/100, Train Loss: 0.4430, Val Loss: 0.4719, Dice: 0.6975\n"
          ]
        },
        {
          "output_type": "stream",
          "name": "stderr",
          "text": [
            "Epoch 85/100: 100%|██████████| 152/152 [01:16<00:00,  1.98it/s, loss=0.413, acc=0.945]\n"
          ]
        },
        {
          "output_type": "stream",
          "name": "stdout",
          "text": [
            "Epoch 85/100, Train Loss: 0.4419, Val Loss: 0.4696, Dice: 0.6990\n"
          ]
        },
        {
          "output_type": "stream",
          "name": "stderr",
          "text": [
            "Epoch 86/100: 100%|██████████| 152/152 [01:16<00:00,  1.98it/s, loss=0.432, acc=0.938]\n"
          ]
        },
        {
          "output_type": "stream",
          "name": "stdout",
          "text": [
            "Epoch 86/100, Train Loss: 0.4406, Val Loss: 0.4705, Dice: 0.6997\n"
          ]
        },
        {
          "output_type": "stream",
          "name": "stderr",
          "text": [
            "Epoch 87/100: 100%|██████████| 152/152 [01:16<00:00,  1.98it/s, loss=0.438, acc=0.935]\n"
          ]
        },
        {
          "output_type": "stream",
          "name": "stdout",
          "text": [
            "Epoch 87/100, Train Loss: 0.4411, Val Loss: 0.4727, Dice: 0.6978\n"
          ]
        },
        {
          "output_type": "stream",
          "name": "stderr",
          "text": [
            "Epoch 88/100: 100%|██████████| 152/152 [01:16<00:00,  1.98it/s, loss=0.425, acc=0.962]\n"
          ]
        },
        {
          "output_type": "stream",
          "name": "stdout",
          "text": [
            "Epoch 88/100, Train Loss: 0.4401, Val Loss: 0.4692, Dice: 0.6991\n"
          ]
        },
        {
          "output_type": "stream",
          "name": "stderr",
          "text": [
            "Epoch 89/100: 100%|██████████| 152/152 [01:16<00:00,  1.98it/s, loss=0.443, acc=0.94]\n"
          ]
        },
        {
          "output_type": "stream",
          "name": "stdout",
          "text": [
            "Epoch 89/100, Train Loss: 0.4406, Val Loss: 0.4684, Dice: 0.7011\n"
          ]
        },
        {
          "output_type": "stream",
          "name": "stderr",
          "text": [
            "Epoch 90/100: 100%|██████████| 152/152 [01:16<00:00,  1.98it/s, loss=0.448, acc=0.937]\n"
          ]
        },
        {
          "output_type": "stream",
          "name": "stdout",
          "text": [
            "Epoch 90/100, Train Loss: 0.4397, Val Loss: 0.4719, Dice: 0.6986\n"
          ]
        },
        {
          "output_type": "stream",
          "name": "stderr",
          "text": [
            "Epoch 91/100: 100%|██████████| 152/152 [01:16<00:00,  1.98it/s, loss=0.453, acc=0.947]\n"
          ]
        },
        {
          "output_type": "stream",
          "name": "stdout",
          "text": [
            "Epoch 91/100, Train Loss: 0.4406, Val Loss: 0.4703, Dice: 0.6989\n"
          ]
        },
        {
          "output_type": "stream",
          "name": "stderr",
          "text": [
            "Epoch 92/100: 100%|██████████| 152/152 [01:16<00:00,  1.98it/s, loss=0.423, acc=0.945]\n"
          ]
        },
        {
          "output_type": "stream",
          "name": "stdout",
          "text": [
            "Epoch 92/100, Train Loss: 0.4381, Val Loss: 0.4671, Dice: 0.7017\n"
          ]
        },
        {
          "output_type": "stream",
          "name": "stderr",
          "text": [
            "Epoch 93/100: 100%|██████████| 152/152 [01:16<00:00,  1.98it/s, loss=0.478, acc=0.928]\n"
          ]
        },
        {
          "output_type": "stream",
          "name": "stdout",
          "text": [
            "Epoch 93/100, Train Loss: 0.4395, Val Loss: 0.4667, Dice: 0.7007\n"
          ]
        },
        {
          "output_type": "stream",
          "name": "stderr",
          "text": [
            "Epoch 94/100: 100%|██████████| 152/152 [01:16<00:00,  1.98it/s, loss=0.516, acc=0.923]\n"
          ]
        },
        {
          "output_type": "stream",
          "name": "stdout",
          "text": [
            "Epoch 94/100, Train Loss: 0.4414, Val Loss: 0.4753, Dice: 0.6928\n"
          ]
        },
        {
          "output_type": "stream",
          "name": "stderr",
          "text": [
            "Epoch 95/100: 100%|██████████| 152/152 [01:16<00:00,  1.98it/s, loss=0.486, acc=0.935]\n"
          ]
        },
        {
          "output_type": "stream",
          "name": "stdout",
          "text": [
            "Epoch 95/100, Train Loss: 0.4391, Val Loss: 0.4666, Dice: 0.7016\n"
          ]
        },
        {
          "output_type": "stream",
          "name": "stderr",
          "text": [
            "Epoch 96/100: 100%|██████████| 152/152 [01:16<00:00,  1.98it/s, loss=0.353, acc=0.951]\n"
          ]
        },
        {
          "output_type": "stream",
          "name": "stdout",
          "text": [
            "Epoch 96/100, Train Loss: 0.4381, Val Loss: 0.4634, Dice: 0.7036\n"
          ]
        },
        {
          "output_type": "stream",
          "name": "stderr",
          "text": [
            "Epoch 97/100: 100%|██████████| 152/152 [01:16<00:00,  1.98it/s, loss=0.439, acc=0.935]\n"
          ]
        },
        {
          "output_type": "stream",
          "name": "stdout",
          "text": [
            "Epoch 97/100, Train Loss: 0.4386, Val Loss: 0.4640, Dice: 0.7036\n"
          ]
        },
        {
          "output_type": "stream",
          "name": "stderr",
          "text": [
            "Epoch 98/100: 100%|██████████| 152/152 [01:16<00:00,  1.98it/s, loss=0.362, acc=0.962]\n"
          ]
        },
        {
          "output_type": "stream",
          "name": "stdout",
          "text": [
            "Epoch 98/100, Train Loss: 0.4374, Val Loss: 0.4703, Dice: 0.6986\n"
          ]
        },
        {
          "output_type": "stream",
          "name": "stderr",
          "text": [
            "Epoch 99/100: 100%|██████████| 152/152 [01:16<00:00,  1.98it/s, loss=0.462, acc=0.944]\n"
          ]
        },
        {
          "output_type": "stream",
          "name": "stdout",
          "text": [
            "Epoch 99/100, Train Loss: 0.4381, Val Loss: 0.4623, Dice: 0.7057\n"
          ]
        },
        {
          "output_type": "stream",
          "name": "stderr",
          "text": [
            "Epoch 100/100: 100%|██████████| 152/152 [01:16<00:00,  1.98it/s, loss=0.425, acc=0.947]\n"
          ]
        },
        {
          "output_type": "stream",
          "name": "stdout",
          "text": [
            "Epoch 100/100, Train Loss: 0.4369, Val Loss: 0.4693, Dice: 0.6984\n"
          ]
        }
      ],
      "source": [
        "from tqdm import tqdm\n",
        "\n",
        "# Trainig Loop\n",
        "num_epochs = 100\n",
        "for epoch in range(start_epoch, num_epochs):\n",
        "    # Training phase\n",
        "    model.train()\n",
        "    train_loss = 0\n",
        "    train_acc = 0\n",
        "\n",
        "    loop = tqdm(train_loader, total=len(train_loader), desc=f\"Epoch {epoch+1}/{num_epochs}\")\n",
        "    for images, masks in loop:\n",
        "        images = images.to(device)\n",
        "        masks = masks.to(device)\n",
        "\n",
        "        # Forward pass\n",
        "        outputs = model(images)\n",
        "        loss = criterion(outputs, masks)\n",
        "\n",
        "        # Backward pass and optimize\n",
        "        optimizer.zero_grad()\n",
        "        loss.backward()\n",
        "        optimizer.step()\n",
        "\n",
        "        pred = torch.sigmoid(outputs) > 0.5\n",
        "        acc = (pred == masks).float().mean()\n",
        "\n",
        "        train_loss += loss.item()\n",
        "        train_acc += acc.item()\n",
        "\n",
        "        loop.set_postfix({\n",
        "            \"loss\": loss.item(),\n",
        "            \"acc\": acc.item()\n",
        "        })\n",
        "\n",
        "    # Validation phase\n",
        "    model.eval()\n",
        "    val_loss = 0\n",
        "    dice_score = 0\n",
        "\n",
        "    with torch.no_grad():\n",
        "        for images, masks in val_loader:\n",
        "            images = images.to(device)\n",
        "            masks = masks.to(device)\n",
        "\n",
        "            outputs = model(images)\n",
        "            loss = criterion(outputs, masks)\n",
        "            val_loss += loss.item()\n",
        "\n",
        "            # Calculate Dice coefficient\n",
        "            pred = torch.sigmoid(outputs) > 0.5\n",
        "            dice_score += (2 * (pred * masks).sum()) / ((pred + masks).sum() + 1e-8)\n",
        "\n",
        "    avg_train_loss = train_loss / len(train_loader)\n",
        "    avg_train_acc = train_acc / len(train_loader)\n",
        "\n",
        "    # Print metrics\n",
        "    print(f'Epoch {epoch+1}/{num_epochs}, Train Loss: {avg_train_loss:.4f}, '\n",
        "          f'Val Loss: {val_loss/len(val_loader):.4f}, Dice: {dice_score/len(val_loader):.4f}')\n",
        "\n",
        "    # Update learning rate based on validation losp\n",
        "    scheduler.step(val_loss)"
      ]
    },
    {
      "cell_type": "code",
      "source": [
        "# Save checkpoint after each epoch\n",
        "torch.save({\n",
        "    \"epoch\": epoch,\n",
        "    \"model_state_dict\": model.state_dict(),\n",
        "    \"optimizer_state_dict\": optimizer.state_dict(),\n",
        "    \"scheduler_state_dict\": scheduler.state_dict(),\n",
        "    \"train_loss\": avg_train_loss,\n",
        "    \"val_loss\": val_loss / len(val_loader),\n",
        "    \"dice_score\": dice_score / len(val_loader)\n",
        "}, checkpoint_path)"
      ],
      "metadata": {
        "id": "28HhNmIJYGnj"
      },
      "id": "28HhNmIJYGnj",
      "execution_count": null,
      "outputs": []
    },
    {
      "cell_type": "code",
      "source": [
        "# Save the trained model\n",
        "torch.save(model.state_dict(), 'building_segmentation_model.pth')"
      ],
      "metadata": {
        "id": "MaxghRDKYLBq"
      },
      "id": "MaxghRDKYLBq",
      "execution_count": null,
      "outputs": []
    },
    {
      "cell_type": "code",
      "execution_count": null,
      "id": "a395a585",
      "metadata": {
        "vscode": {
          "languageId": "plaintext"
        },
        "id": "a395a585",
        "outputId": "d6835be6-5bfb-49e3-f295-4b2fc140c538",
        "colab": {
          "base_uri": "https://localhost:8080/"
        }
      },
      "outputs": [
        {
          "output_type": "execute_result",
          "data": {
            "text/plain": [
              "302"
            ]
          },
          "metadata": {},
          "execution_count": 39
        }
      ],
      "source": [
        "# Clean up\n",
        "del model, train_loader, val_loader, outputs, loss\n",
        "import torch\n",
        "torch.cuda.empty_cache()\n",
        "torch.cuda.ipc_collect()\n",
        "import gc\n",
        "gc.collect()"
      ]
    },
    {
      "cell_type": "code",
      "source": [
        "from google.colab import drive\n",
        "drive.mount('/content/drive')"
      ],
      "metadata": {
        "id": "Vbe9GAVzkb2w"
      },
      "id": "Vbe9GAVzkb2w",
      "execution_count": null,
      "outputs": []
    },
    {
      "cell_type": "code",
      "execution_count": null,
      "id": "970e57cb",
      "metadata": {
        "vscode": {
          "languageId": "plaintext"
        },
        "id": "970e57cb"
      },
      "outputs": [],
      "source": [
        "# Test\n"
      ]
    },
    {
      "cell_type": "code",
      "execution_count": null,
      "id": "f53a7633",
      "metadata": {
        "vscode": {
          "languageId": "plaintext"
        },
        "id": "f53a7633",
        "outputId": "bc8dea56-f5fa-4547-fcb6-63584b9d070a",
        "colab": {
          "base_uri": "https://localhost:8080/"
        }
      },
      "outputs": [
        {
          "output_type": "stream",
          "name": "stderr",
          "text": [
            "/content/models/unet/model.py:211: FutureWarning: `nn.init.xavier_normal` is now deprecated in favor of `nn.init.xavier_normal_`.\n",
            "  init.xavier_normal(m.weight)\n",
            "/content/models/unet/model.py:212: FutureWarning: `nn.init.constant` is now deprecated in favor of `nn.init.constant_`.\n",
            "  init.constant(m.bias, 0)\n"
          ]
        },
        {
          "output_type": "execute_result",
          "data": {
            "text/plain": [
              "UNet(\n",
              "  (conv_final): Conv2d(64, 1, kernel_size=(1, 1), stride=(1, 1))\n",
              "  (down_convs): ModuleList(\n",
              "    (0): DownConv(\n",
              "      (conv1): Conv2d(3, 64, kernel_size=(3, 3), stride=(1, 1), padding=(1, 1))\n",
              "      (conv2): Conv2d(64, 64, kernel_size=(3, 3), stride=(1, 1), padding=(1, 1))\n",
              "      (pool): MaxPool2d(kernel_size=2, stride=2, padding=0, dilation=1, ceil_mode=False)\n",
              "    )\n",
              "    (1): DownConv(\n",
              "      (conv1): Conv2d(64, 128, kernel_size=(3, 3), stride=(1, 1), padding=(1, 1))\n",
              "      (conv2): Conv2d(128, 128, kernel_size=(3, 3), stride=(1, 1), padding=(1, 1))\n",
              "      (pool): MaxPool2d(kernel_size=2, stride=2, padding=0, dilation=1, ceil_mode=False)\n",
              "    )\n",
              "    (2): DownConv(\n",
              "      (conv1): Conv2d(128, 256, kernel_size=(3, 3), stride=(1, 1), padding=(1, 1))\n",
              "      (conv2): Conv2d(256, 256, kernel_size=(3, 3), stride=(1, 1), padding=(1, 1))\n",
              "      (pool): MaxPool2d(kernel_size=2, stride=2, padding=0, dilation=1, ceil_mode=False)\n",
              "    )\n",
              "    (3): DownConv(\n",
              "      (conv1): Conv2d(256, 512, kernel_size=(3, 3), stride=(1, 1), padding=(1, 1))\n",
              "      (conv2): Conv2d(512, 512, kernel_size=(3, 3), stride=(1, 1), padding=(1, 1))\n",
              "      (pool): MaxPool2d(kernel_size=2, stride=2, padding=0, dilation=1, ceil_mode=False)\n",
              "    )\n",
              "    (4): DownConv(\n",
              "      (conv1): Conv2d(512, 1024, kernel_size=(3, 3), stride=(1, 1), padding=(1, 1))\n",
              "      (conv2): Conv2d(1024, 1024, kernel_size=(3, 3), stride=(1, 1), padding=(1, 1))\n",
              "    )\n",
              "  )\n",
              "  (up_convs): ModuleList(\n",
              "    (0): UpConv(\n",
              "      (upconv): ConvTranspose2d(1024, 512, kernel_size=(2, 2), stride=(2, 2))\n",
              "      (conv1): Conv2d(1024, 512, kernel_size=(3, 3), stride=(1, 1), padding=(1, 1))\n",
              "      (conv2): Conv2d(512, 512, kernel_size=(3, 3), stride=(1, 1), padding=(1, 1))\n",
              "    )\n",
              "    (1): UpConv(\n",
              "      (upconv): ConvTranspose2d(512, 256, kernel_size=(2, 2), stride=(2, 2))\n",
              "      (conv1): Conv2d(512, 256, kernel_size=(3, 3), stride=(1, 1), padding=(1, 1))\n",
              "      (conv2): Conv2d(256, 256, kernel_size=(3, 3), stride=(1, 1), padding=(1, 1))\n",
              "    )\n",
              "    (2): UpConv(\n",
              "      (upconv): ConvTranspose2d(256, 128, kernel_size=(2, 2), stride=(2, 2))\n",
              "      (conv1): Conv2d(256, 128, kernel_size=(3, 3), stride=(1, 1), padding=(1, 1))\n",
              "      (conv2): Conv2d(128, 128, kernel_size=(3, 3), stride=(1, 1), padding=(1, 1))\n",
              "    )\n",
              "    (3): UpConv(\n",
              "      (upconv): ConvTranspose2d(128, 64, kernel_size=(2, 2), stride=(2, 2))\n",
              "      (conv1): Conv2d(128, 64, kernel_size=(3, 3), stride=(1, 1), padding=(1, 1))\n",
              "      (conv2): Conv2d(64, 64, kernel_size=(3, 3), stride=(1, 1), padding=(1, 1))\n",
              "    )\n",
              "  )\n",
              ")"
            ]
          },
          "metadata": {},
          "execution_count": 32
        }
      ],
      "source": [
        "from models.unet.model import UNet\n",
        "import torch\n",
        "\n",
        "# Create the model with the same config as during training\n",
        "model = UNet(num_classes=1, in_channels=3, depth=5, start_filts=64)\n",
        "\n",
        "if os.path.exists(checkpoint_path):\n",
        "  checkpoint = torch.load(checkpoint_path, map_location=device)\n",
        "  model.load_state_dict(checkpoint[\"model_state_dict\"])\n",
        "else:\n",
        "  model.load_state_dict(torch.load('building_segmentation_model.pth', map_location=\"cuda\" if torch.cuda.is_available() else \"cpu\"))\n",
        "model.eval()\n",
        "model.to(\"cuda\" if torch.cuda.is_available() else \"cpu\")"
      ]
    },
    {
      "cell_type": "code",
      "execution_count": null,
      "id": "6e053e67",
      "metadata": {
        "vscode": {
          "languageId": "plaintext"
        },
        "id": "6e053e67"
      },
      "outputs": [],
      "source": [
        "import albumentations as A\n",
        "from albumentations.pytorch import ToTensorV2\n",
        "import numpy as np\n",
        "import rasterio\n",
        "import torch\n",
        "import matplotlib.pyplot as plt\n",
        "\n",
        "# Define same transform used for validation\n",
        "val_transform = A.Compose([\n",
        "    A.Resize(448, 448),\n",
        "    A.Normalize(),\n",
        "    ToTensorV2()\n",
        "])\n",
        "\n",
        "def load_image(tiff_path):\n",
        "    with rasterio.open(tiff_path) as src:\n",
        "        image = src.read()\n",
        "        image = np.transpose(image, (1, 2, 0))  # HWC for Albumentations\n",
        "    return image\n",
        "\n",
        "# Replace with your TIFF file path\n",
        "image_path = \"/content/3band/3band_AOI_1_RIO_img136.tif\"\n",
        "image = load_image(image_path)\n",
        "\n",
        "# Apply transform\n",
        "augmented = val_transform(image=image)\n",
        "image_tensor = augmented[\"image\"].unsqueeze(0).to(\"cuda\" if torch.cuda.is_available() else \"cpu\")  # Add batch dimension\n"
      ]
    },
    {
      "cell_type": "code",
      "execution_count": null,
      "id": "98b55b97",
      "metadata": {
        "vscode": {
          "languageId": "plaintext"
        },
        "id": "98b55b97"
      },
      "outputs": [],
      "source": [
        "with torch.no_grad():\n",
        "    output = model(image_tensor)\n",
        "    prediction = torch.sigmoid(output)\n",
        "    prediction = (prediction > 0.5).float().squeeze().cpu().numpy()  # Convert to binary mask\n"
      ]
    },
    {
      "cell_type": "code",
      "execution_count": null,
      "id": "92d59dc0",
      "metadata": {
        "vscode": {
          "languageId": "plaintext"
        },
        "id": "92d59dc0",
        "outputId": "77961c9c-e305-44a9-dd4e-5b845ceee87a",
        "colab": {
          "base_uri": "https://localhost:8080/",
          "height": 428
        }
      },
      "outputs": [
        {
          "output_type": "display_data",
          "data": {
            "text/plain": [
              "<Figure size 640x480 with 1 Axes>"
            ],
            "image/png": "[encoded data removed]"
          },
          "metadata": {}
        }
      ],
      "source": [
        "plt.imshow(prediction, cmap='gray')\n",
        "plt.title(\"Predicted Building Mask\")\n",
        "plt.axis(\"off\")\n",
        "plt.show()"
      ]
    },
    {
      "cell_type": "code",
      "execution_count": null,
      "id": "125889c0",
      "metadata": {
        "vscode": {
          "languageId": "plaintext"
        },
        "id": "125889c0"
      },
      "outputs": [],
      "source": [
        "mask_to_save = (prediction * 255).astype(np.uint8)"
      ]
    },
    {
      "cell_type": "code",
      "execution_count": null,
      "id": "5a9758ed",
      "metadata": {
        "vscode": {
          "languageId": "plaintext"
        },
        "id": "5a9758ed"
      },
      "outputs": [],
      "source": [
        "import rasterio\n",
        "\n",
        "with rasterio.open(image_path) as src:\n",
        "    meta = src.meta.copy()\n",
        "\n",
        "meta.update({\n",
        "    \"count\": 1,\n",
        "    \"dtype\": \"uint8\"\n",
        "})\n",
        "\n",
        "with rasterio.open(\"predicted_mask.tif\", \"w\", **meta) as dst:\n",
        "    dst.write(mask_to_save, 1)"
      ]
    },
    {
      "cell_type": "code",
      "source": [
        "from google.colab import files\n"
      ],
      "metadata": {
        "id": "9L_QmNNGkl1c"
      },
      "id": "9L_QmNNGkl1c",
      "execution_count": null,
      "outputs": []
    },
    {
      "cell_type": "code",
      "source": [
        "files.download(checkpoint_path)"
      ],
      "metadata": {
        "id": "g82zM1htkqMM",
        "outputId": "91d1107d-a473-42fd-8cb2-bc567a5f4501",
        "colab": {
          "base_uri": "https://localhost:8080/",
          "height": 17
        }
      },
      "id": "g82zM1htkqMM",
      "execution_count": null,
      "outputs": [
        {
          "output_type": "display_data",
          "data": {
            "text/plain": [
              "<IPython.core.display.Javascript object>"
            ],
            "application/javascript": [
              "\n",
              "    async function download(id, filename, size) {\n",
              "      if (!google.colab.kernel.accessAllowed) {\n",
              "        return;\n",
              "      }\n",
              "      const div = document.createElement('div');\n",
              "      const label = document.createElement('label');\n",
              "      label.textContent = `Downloading \"${filename}\": `;\n",
              "      div.appendChild(label);\n",
              "      const progress = document.createElement('progress');\n",
              "      progress.max = size;\n",
              "      div.appendChild(progress);\n",
              "      document.body.appendChild(div);\n",
              "\n",
              "      const buffers = [];\n",
              "      let downloaded = 0;\n",
              "\n",
              "      const channel = await google.colab.kernel.comms.open(id);\n",
              "      // Send a message to notify the kernel that we're ready.\n",
              "      channel.send({})\n",
              "\n",
              "      for await (const message of channel.messages) {\n",
              "        // Send a message to notify the kernel that we're ready.\n",
              "        channel.send({})\n",
              "        if (message.buffers) {\n",
              "          for (const buffer of message.buffers) {\n",
              "            buffers.push(buffer);\n",
              "            downloaded += buffer.byteLength;\n",
              "            progress.value = downloaded;\n",
              "          }\n",
              "        }\n",
              "      }\n",
              "      const blob = new Blob(buffers, {type: 'application/binary'});\n",
              "      const a = document.createElement('a');\n",
              "      a.href = window.URL.createObjectURL(blob);\n",
              "      a.download = filename;\n",
              "      div.appendChild(a);\n",
              "      a.click();\n",
              "      div.remove();\n",
              "    }\n",
              "  "
            ]
          },
          "metadata": {}
        },
        {
          "output_type": "display_data",
          "data": {
            "text/plain": [
              "<IPython.core.display.Javascript object>"
            ],
            "application/javascript": [
              "download(\"download_6833763b-895c-453b-9f9f-334dc91d4ab8\", \"checkpoint.pth\", 372437943)"
            ]
          },
          "metadata": {}
        }
      ]
    },
    {
      "cell_type": "code",
      "source": [
        "files.download(\"building_segmentation_model.pth\")"
      ],
      "metadata": {
        "id": "hixO0tA4lWP2",
        "outputId": "2ff9e3a8-f3d9-42b6-8a46-25552758eb3d",
        "colab": {
          "base_uri": "https://localhost:8080/",
          "height": 17
        }
      },
      "id": "hixO0tA4lWP2",
      "execution_count": null,
      "outputs": [
        {
          "output_type": "display_data",
          "data": {
            "text/plain": [
              "<IPython.core.display.Javascript object>"
            ],
            "application/javascript": [
              "\n",
              "    async function download(id, filename, size) {\n",
              "      if (!google.colab.kernel.accessAllowed) {\n",
              "        return;\n",
              "      }\n",
              "      const div = document.createElement('div');\n",
              "      const label = document.createElement('label');\n",
              "      label.textContent = `Downloading \"${filename}\": `;\n",
              "      div.appendChild(label);\n",
              "      const progress = document.createElement('progress');\n",
              "      progress.max = size;\n",
              "      div.appendChild(progress);\n",
              "      document.body.appendChild(div);\n",
              "\n",
              "      const buffers = [];\n",
              "      let downloaded = 0;\n",
              "\n",
              "      const channel = await google.colab.kernel.comms.open(id);\n",
              "      // Send a message to notify the kernel that we're ready.\n",
              "      channel.send({})\n",
              "\n",
              "      for await (const message of channel.messages) {\n",
              "        // Send a message to notify the kernel that we're ready.\n",
              "        channel.send({})\n",
              "        if (message.buffers) {\n",
              "          for (const buffer of message.buffers) {\n",
              "            buffers.push(buffer);\n",
              "            downloaded += buffer.byteLength;\n",
              "            progress.value = downloaded;\n",
              "          }\n",
              "        }\n",
              "      }\n",
              "      const blob = new Blob(buffers, {type: 'application/binary'});\n",
              "      const a = document.createElement('a');\n",
              "      a.href = window.URL.createObjectURL(blob);\n",
              "      a.download = filename;\n",
              "      div.appendChild(a);\n",
              "      a.click();\n",
              "      div.remove();\n",
              "    }\n",
              "  "
            ]
          },
          "metadata": {}
        },
        {
          "output_type": "display_data",
          "data": {
            "text/plain": [
              "<IPython.core.display.Javascript object>"
            ],
            "application/javascript": [
              "download(\"download_7988e7b1-7eab-4d2c-b24d-3826fc428bad\", \"building_segmentation_model.pth\", 124144372)"
            ]
          },
          "metadata": {}
        }
      ]
    }
  ],
  "metadata": {
    "language_info": {
      "name": "python"
    },
    "colab": {
      "provenance": [],
      "machine_shape": "hm"
    },
    "kernelspec": {
      "name": "python3",
      "display_name": "Python 3"
    }
  },
  "nbformat": 4,
  "nbformat_minor": 5
}